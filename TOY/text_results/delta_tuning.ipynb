{
 "cells": [
  {
   "cell_type": "code",
   "execution_count": 20,
   "id": "d4f19e37-6561-4465-8eb9-e8fba869483d",
   "metadata": {
    "tags": []
   },
   "outputs": [
    {
     "data": {
      "image/png": "[encoded data removed]",
      "text/plain": [
       "<Figure size 200x200 with 1 Axes>"
      ]
     },
     "metadata": {},
     "output_type": "display_data"
    }
   ],
   "source": [
    "import os\n",
    "import pandas as pd\n",
    "import matplotlib.pyplot as plt\n",
    "\n",
    "# Set the folder path containing the CSV files\n",
    "folder_path = \"cmnist/coverage_visuals_2.5\"  # Update this path as needed\n",
    "\n",
    "# Initialize a list to store (x, y) points\n",
    "data_points = []\n",
    "\n",
    "# Loop through all files in the folder\n",
    "for file_name in os.listdir(folder_path):\n",
    "    if file_name.endswith(\".csv\"):  # Ensure it's a CSV file\n",
    "        # Extract x value from the filename (e.g., r0.05 from the filename)\n",
    "        try:\n",
    "            x_value = float(file_name.split('_')[-1][1:].replace('.csv', ''))\n",
    "        except ValueError:\n",
    "            print(f\"Skipping file {file_name} due to invalid format.\")\n",
    "            continue\n",
    "        \n",
    "        # Full file path\n",
    "        file_path = os.path.join(folder_path, file_name)\n",
    "        \n",
    "        # Load the CSV and compute the average of the last column\n",
    "        try:\n",
    "            df = pd.read_csv(file_path)\n",
    "            y_value = df.iloc[:, -1].mean()  # Average of the last column\n",
    "            data_points.append((x_value, y_value))\n",
    "        except Exception as e:\n",
    "            print(f\"Error reading {file_name}: {e}\")\n",
    "            continue\n",
    "\n",
    "# Sort data points by x_value for proper plotting\n",
    "data_points.sort(key=lambda x: x[0])\n",
    "\n",
    "# Check if there are valid points\n",
    "if data_points:\n",
    "    # Separate x and y values for plotting\n",
    "    x_values, y_values = zip(*data_points)\n",
    "\n",
    "    # Plotting\n",
    "    plt.figure(figsize=(2, 2))\n",
    "    plt.plot(x_values, y_values, marker='o', linestyle='-', label='Coverage w.r.t. $\\delta$')\n",
    "    plt.axhline(y=95, color='red', linestyle='--', linewidth=1.5, label='95% Threshold')  # Add red threshold line\n",
    "    plt.xlabel('$\\delta$', fontsize=14, fontweight='bold')\n",
    "    #plt.ylabel('Coverage (%)', fontsize=14)\n",
    "    plt.grid(True)\n",
    "    #plt.legend(bbox_to_anchor=(0.62, 0.95), borderaxespad=0, fontsize='small')\n",
    "    \n",
    "    # Cap the y-axis at 100 and set interval to 5\n",
    "    plt.ylim(0, 100)\n",
    "    plt.yticks(range(0, 101, 25))\n",
    "    # Save the figure as a tight PDF\n",
    "    output_pdf_path = \"tuning_delta_cmnist.pdf\"  # Set desired PDF file name\n",
    "    plt.savefig(output_pdf_path, format='pdf', bbox_inches='tight')\n",
    "    # Put show before output the figure otherwise the output gonna be blank\n",
    "    plt.show()\n",
    "else:\n",
    "    print(\"No valid data points found for plotting.\")\n"
   ]
  },
  {
   "cell_type": "code",
   "execution_count": 21,
   "id": "9648b198-96b7-4741-ada6-aa434cc13a6f",
   "metadata": {},
   "outputs": [
    {
     "data": {
      "image/png": "[encoded data removed]",
      "text/plain": [
       "<Figure size 200x200 with 1 Axes>"
      ]
     },
     "metadata": {},
     "output_type": "display_data"
    }
   ],
   "source": [
    "import os\n",
    "import pandas as pd\n",
    "import matplotlib.pyplot as plt\n",
    "\n",
    "# Set the folder path containing the CSV files\n",
    "folder_path = \"ibm/coverage_visuals_2.5\"  # Update this path as needed\n",
    "\n",
    "# Initialize a list to store (x, y) points\n",
    "data_points = []\n",
    "\n",
    "# Loop through all files in the folder\n",
    "for file_name in os.listdir(folder_path):\n",
    "    if file_name.endswith(\".csv\"):  # Ensure it's a CSV file\n",
    "        # Extract x value from the filename (e.g., r0.05 from the filename)\n",
    "        try:\n",
    "            x_value = float(file_name.split('_')[-1][1:].replace('.csv', ''))\n",
    "        except ValueError:\n",
    "            print(f\"Skipping file {file_name} due to invalid format.\")\n",
    "            continue\n",
    "        \n",
    "        # Full file path\n",
    "        file_path = os.path.join(folder_path, file_name)\n",
    "        \n",
    "        # Load the CSV and compute the average of the last column\n",
    "        try:\n",
    "            df = pd.read_csv(file_path)\n",
    "            y_value = df.iloc[:, -2].mean()  # Average of the last column\n",
    "            data_points.append((x_value, y_value))\n",
    "        except Exception as e:\n",
    "            print(f\"Error reading {file_name}: {e}\")\n",
    "            continue\n",
    "\n",
    "# Sort data points by x_value for proper plotting\n",
    "data_points.sort(key=lambda x: x[0])\n",
    "\n",
    "# Check if there are valid points\n",
    "if data_points:\n",
    "    # Separate x and y values for plotting\n",
    "    x_values, y_values = zip(*data_points)\n",
    "\n",
    "    # Plotting\n",
    "    plt.figure(figsize=(2, 2))\n",
    "    plt.plot(x_values, y_values, marker='o', linestyle='-', label='Coverage w.r.t. $\\delta$')\n",
    "    plt.axhline(y=95, color='red', linestyle='--', linewidth=1.5, label='95% Threshold')  # Add red threshold line\n",
    "    plt.xlabel('$\\delta$', fontsize=14, fontweight='bold')\n",
    "    #plt.ylabel('Coverage (%)', fontsize=14)\n",
    "    plt.grid(True)\n",
    "    #plt.legend(fontsize='small')\n",
    "    \n",
    "    # Cap the y-axis at 100 and set interval to 5\n",
    "    plt.ylim(30, 100)\n",
    "    plt.yticks(range(35, 101, 15))\n",
    "    # Save the figure as a tight PDF\n",
    "    output_pdf_path = \"tuning_delta_ibm.pdf\"  # Set desired PDF file name\n",
    "    plt.savefig(output_pdf_path, format='pdf', bbox_inches='tight')\n",
    "    # Put show before output the figure otherwise the output gonna be blank\n",
    "    plt.show()\n",
    "else:\n",
    "    print(\"No valid data points found for plotting.\")\n"
   ]
  },
  {
   "cell_type": "code",
   "execution_count": 23,
   "id": "e97dfcf5-5fb6-4280-8553-09d02b48dd45",
   "metadata": {
    "tags": []
   },
   "outputs": [
    {
     "data": {
      "image/png": "[encoded data removed]",
      "text/plain": [
       "<Figure size 200x200 with 1 Axes>"
      ]
     },
     "metadata": {},
     "output_type": "display_data"
    }
   ],
   "source": [
    "import os\n",
    "import pandas as pd\n",
    "import matplotlib.pyplot as plt\n",
    "\n",
    "# Set the folder path containing the CSV files\n",
    "folder_path = \"toy/coverage_visuals_2.5\"  # Update this path as needed\n",
    "\n",
    "# Initialize a list to store (x, y) points\n",
    "data_points = []\n",
    "\n",
    "# Loop through all files in the folder\n",
    "for file_name in os.listdir(folder_path):\n",
    "    if file_name.endswith(\".csv\"):  # Ensure it's a CSV file\n",
    "        # Extract x value from the filename (e.g., r0.05 from the filename)\n",
    "        try:\n",
    "            x_value = float(file_name.split('_')[-1][1:].replace('.csv', ''))\n",
    "        except ValueError:\n",
    "            print(f\"Skipping file {file_name} due to invalid format.\")\n",
    "            continue\n",
    "        \n",
    "        # Full file path\n",
    "        file_path = os.path.join(folder_path, file_name)\n",
    "        \n",
    "        # Load the CSV and compute the average of the last column\n",
    "        try:\n",
    "            df = pd.read_csv(file_path)\n",
    "            y_value = df.iloc[:, -1].mean()  # Average of the last column\n",
    "            data_points.append((x_value, y_value))\n",
    "        except Exception as e:\n",
    "            print(f\"Error reading {file_name}: {e}\")\n",
    "            continue\n",
    "\n",
    "# Sort data points by x_value for proper plotting\n",
    "data_points.sort(key=lambda x: x[0])\n",
    "\n",
    "# Check if there are valid points\n",
    "if data_points:\n",
    "    # Separate x and y values for plotting\n",
    "    x_values, y_values = zip(*data_points)\n",
    "\n",
    "    # Plotting\n",
    "    plt.figure(figsize=(2, 2))\n",
    "    plt.plot(x_values, y_values, marker='o', linestyle='-', label='Coverage w.r.t. $\\delta$')\n",
    "    plt.axhline(y=95, color='red', linestyle='--', linewidth=1.5, label='95% Threshold')  # Add red threshold line\n",
    "    plt.xlabel('$\\delta$', fontsize=14, fontweight='bold')\n",
    "    plt.ylabel('Coverage (%)', fontsize=11, fontweight='bold')\n",
    "    plt.grid(True)\n",
    "    plt.legend(fontsize='small')\n",
    "    \n",
    "    # Cap the y-axis at 100 and set interval to 5\n",
    "    plt.ylim(45, 100)\n",
    "    plt.yticks(range(40, 101, 15))\n",
    "    # Save the figure as a tight PDF\n",
    "    output_pdf_path = \"tuning_delta_toy.pdf\"  # Set desired PDF file name\n",
    "    plt.savefig(output_pdf_path, format='pdf', bbox_inches='tight')\n",
    "    # Put show before output the figure otherwise the output gonna be blank\n",
    "    plt.show()\n",
    "else:\n",
    "    print(\"No valid data points found for plotting.\")\n"
   ]
  },
  {
   "cell_type": "code",
   "execution_count": null,
   "id": "cb3a521b-624e-4401-b588-ecae38d5fc81",
   "metadata": {},
   "outputs": [],
   "source": []
  }
 ],
 "metadata": {
  "kernelspec": {
   "display_name": "Python 3 (ipykernel)",
   "language": "python",
   "name": "python3"
  },
  "language_info": {
   "codemirror_mode": {
    "name": "ipython",
    "version": 3
   },
   "file_extension": ".py",
   "mimetype": "text/x-python",
   "name": "python",
   "nbconvert_exporter": "python",
   "pygments_lexer": "ipython3",
   "version": "3.11.5"
  }
 },
 "nbformat": 4,
 "nbformat_minor": 5
}
